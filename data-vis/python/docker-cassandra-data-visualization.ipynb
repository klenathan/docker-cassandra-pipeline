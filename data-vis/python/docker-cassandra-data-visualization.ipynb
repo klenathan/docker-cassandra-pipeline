{
 "cells": [
  {
   "cell_type": "code",
   "execution_count": 1,
   "metadata": {},
   "outputs": [],
   "source": [
    "import pandas as pd\n",
    "import seaborn as sns\n",
    "import numpy as np\n",
    "import matplotlib.pyplot as plt\n",
    "from cassandrautils import *\n"
   ]
  },
  {
   "cell_type": "markdown",
   "metadata": {},
   "source": [
    "# Weather data\n",
    "\n",
    "The data is crawled from Open Weather Map"
   ]
  },
  {
   "cell_type": "code",
   "execution_count": 2,
   "metadata": {},
   "outputs": [
    {
     "data": {
      "text/html": [
       "<div>\n",
       "<style scoped>\n",
       "    .dataframe tbody tr th:only-of-type {\n",
       "        vertical-align: middle;\n",
       "    }\n",
       "\n",
       "    .dataframe tbody tr th {\n",
       "        vertical-align: top;\n",
       "    }\n",
       "\n",
       "    .dataframe thead th {\n",
       "        text-align: right;\n",
       "    }\n",
       "</style>\n",
       "<table border=\"1\" class=\"dataframe\">\n",
       "  <thead>\n",
       "    <tr style=\"text-align: right;\">\n",
       "      <th></th>\n",
       "      <th>location</th>\n",
       "      <th>forecastdate</th>\n",
       "      <th>description</th>\n",
       "      <th>feels_like</th>\n",
       "      <th>humidity</th>\n",
       "      <th>pressure</th>\n",
       "      <th>sunrise</th>\n",
       "      <th>sunset</th>\n",
       "      <th>temp</th>\n",
       "      <th>temp_max</th>\n",
       "      <th>temp_min</th>\n",
       "      <th>wind</th>\n",
       "    </tr>\n",
       "  </thead>\n",
       "  <tbody>\n",
       "    <tr>\n",
       "      <th>0</th>\n",
       "      <td>Vancouver</td>\n",
       "      <td>2023-12-04 10:46:15</td>\n",
       "      <td>few clouds</td>\n",
       "      <td>276.730011</td>\n",
       "      <td>94.0</td>\n",
       "      <td>1018.0</td>\n",
       "      <td>1701704997</td>\n",
       "      <td>1701735343</td>\n",
       "      <td>279.600006</td>\n",
       "      <td>282.23999</td>\n",
       "      <td>277.75</td>\n",
       "      <td>4.12</td>\n",
       "    </tr>\n",
       "    <tr>\n",
       "      <th>1</th>\n",
       "      <td>Vancouver</td>\n",
       "      <td>2023-12-04 10:47:15</td>\n",
       "      <td>few clouds</td>\n",
       "      <td>276.730011</td>\n",
       "      <td>94.0</td>\n",
       "      <td>1018.0</td>\n",
       "      <td>1701704997</td>\n",
       "      <td>1701735343</td>\n",
       "      <td>279.600006</td>\n",
       "      <td>282.23999</td>\n",
       "      <td>277.75</td>\n",
       "      <td>4.12</td>\n",
       "    </tr>\n",
       "    <tr>\n",
       "      <th>2</th>\n",
       "      <td>Vancouver</td>\n",
       "      <td>2023-12-04 10:48:15</td>\n",
       "      <td>few clouds</td>\n",
       "      <td>276.730011</td>\n",
       "      <td>94.0</td>\n",
       "      <td>1018.0</td>\n",
       "      <td>1701704997</td>\n",
       "      <td>1701735343</td>\n",
       "      <td>279.600006</td>\n",
       "      <td>282.23999</td>\n",
       "      <td>277.75</td>\n",
       "      <td>4.12</td>\n",
       "    </tr>\n",
       "    <tr>\n",
       "      <th>3</th>\n",
       "      <td>Vancouver</td>\n",
       "      <td>2023-12-04 10:49:15</td>\n",
       "      <td>few clouds</td>\n",
       "      <td>276.730011</td>\n",
       "      <td>94.0</td>\n",
       "      <td>1018.0</td>\n",
       "      <td>1701704997</td>\n",
       "      <td>1701735343</td>\n",
       "      <td>279.600006</td>\n",
       "      <td>282.23999</td>\n",
       "      <td>277.75</td>\n",
       "      <td>4.12</td>\n",
       "    </tr>\n",
       "    <tr>\n",
       "      <th>4</th>\n",
       "      <td>Vancouver</td>\n",
       "      <td>2023-12-04 10:50:16</td>\n",
       "      <td>few clouds</td>\n",
       "      <td>276.730011</td>\n",
       "      <td>94.0</td>\n",
       "      <td>1018.0</td>\n",
       "      <td>1701704997</td>\n",
       "      <td>1701735343</td>\n",
       "      <td>279.600006</td>\n",
       "      <td>282.23999</td>\n",
       "      <td>277.75</td>\n",
       "      <td>4.12</td>\n",
       "    </tr>\n",
       "  </tbody>\n",
       "</table>\n",
       "</div>"
      ],
      "text/plain": [
       "    location        forecastdate description  feels_like  humidity  pressure  \\\n",
       "0  Vancouver 2023-12-04 10:46:15  few clouds  276.730011      94.0    1018.0   \n",
       "1  Vancouver 2023-12-04 10:47:15  few clouds  276.730011      94.0    1018.0   \n",
       "2  Vancouver 2023-12-04 10:48:15  few clouds  276.730011      94.0    1018.0   \n",
       "3  Vancouver 2023-12-04 10:49:15  few clouds  276.730011      94.0    1018.0   \n",
       "4  Vancouver 2023-12-04 10:50:16  few clouds  276.730011      94.0    1018.0   \n",
       "\n",
       "      sunrise      sunset        temp   temp_max  temp_min  wind  \n",
       "0  1701704997  1701735343  279.600006  282.23999    277.75  4.12  \n",
       "1  1701704997  1701735343  279.600006  282.23999    277.75  4.12  \n",
       "2  1701704997  1701735343  279.600006  282.23999    277.75  4.12  \n",
       "3  1701704997  1701735343  279.600006  282.23999    277.75  4.12  \n",
       "4  1701704997  1701735343  279.600006  282.23999    277.75  4.12  "
      ]
     },
     "execution_count": 2,
     "metadata": {},
     "output_type": "execute_result"
    }
   ],
   "source": [
    "weather = getWeatherDF()\n",
    "weather.head(5)"
   ]
  },
  {
   "cell_type": "markdown",
   "metadata": {},
   "source": [
    "## The temp is in Kelvin, thus, some modification is needed for the ease of referencing"
   ]
  },
  {
   "cell_type": "code",
   "execution_count": 3,
   "metadata": {},
   "outputs": [],
   "source": [
    "weather['celsius_temp'] = weather['temp'] - 273.15\n",
    "weather['celsius_temp_max'] = weather['temp_max'] - 273.15\n",
    "weather['celsius_temp_min'] = weather['temp_min'] - 273.15"
   ]
  },
  {
   "cell_type": "code",
   "execution_count": 4,
   "metadata": {},
   "outputs": [],
   "source": [
    "weather['forecastdate_rounded'] = weather['forecastdate'].dt.round(\"min\")"
   ]
  },
  {
   "cell_type": "code",
   "execution_count": 5,
   "metadata": {},
   "outputs": [
    {
     "data": {
      "text/html": [
       "<div>\n",
       "<style scoped>\n",
       "    .dataframe tbody tr th:only-of-type {\n",
       "        vertical-align: middle;\n",
       "    }\n",
       "\n",
       "    .dataframe tbody tr th {\n",
       "        vertical-align: top;\n",
       "    }\n",
       "\n",
       "    .dataframe thead th {\n",
       "        text-align: right;\n",
       "    }\n",
       "</style>\n",
       "<table border=\"1\" class=\"dataframe\">\n",
       "  <thead>\n",
       "    <tr style=\"text-align: right;\">\n",
       "      <th></th>\n",
       "      <th>location</th>\n",
       "      <th>forecastdate</th>\n",
       "      <th>description</th>\n",
       "      <th>feels_like</th>\n",
       "      <th>humidity</th>\n",
       "      <th>pressure</th>\n",
       "      <th>sunrise</th>\n",
       "      <th>sunset</th>\n",
       "      <th>temp</th>\n",
       "      <th>temp_max</th>\n",
       "      <th>temp_min</th>\n",
       "      <th>wind</th>\n",
       "      <th>celsius_temp</th>\n",
       "      <th>celsius_temp_max</th>\n",
       "      <th>celsius_temp_min</th>\n",
       "      <th>forecastdate_rounded</th>\n",
       "    </tr>\n",
       "  </thead>\n",
       "  <tbody>\n",
       "    <tr>\n",
       "      <th>199</th>\n",
       "      <td>Hanoi</td>\n",
       "      <td>2023-12-04 10:57:02</td>\n",
       "      <td>overcast clouds</td>\n",
       "      <td>293.160004</td>\n",
       "      <td>75.0</td>\n",
       "      <td>1016.0</td>\n",
       "      <td>1701645532</td>\n",
       "      <td>1701684877</td>\n",
       "      <td>293.149994</td>\n",
       "      <td>293.149994</td>\n",
       "      <td>293.149994</td>\n",
       "      <td>2.47</td>\n",
       "      <td>19.999994</td>\n",
       "      <td>19.999994</td>\n",
       "      <td>19.999994</td>\n",
       "      <td>2023-12-04 10:57:00</td>\n",
       "    </tr>\n",
       "    <tr>\n",
       "      <th>200</th>\n",
       "      <td>Hanoi</td>\n",
       "      <td>2023-12-04 10:58:09</td>\n",
       "      <td>overcast clouds</td>\n",
       "      <td>293.160004</td>\n",
       "      <td>75.0</td>\n",
       "      <td>1016.0</td>\n",
       "      <td>1701645532</td>\n",
       "      <td>1701684877</td>\n",
       "      <td>293.149994</td>\n",
       "      <td>293.149994</td>\n",
       "      <td>293.149994</td>\n",
       "      <td>2.47</td>\n",
       "      <td>19.999994</td>\n",
       "      <td>19.999994</td>\n",
       "      <td>19.999994</td>\n",
       "      <td>2023-12-04 10:58:00</td>\n",
       "    </tr>\n",
       "    <tr>\n",
       "      <th>201</th>\n",
       "      <td>Hanoi</td>\n",
       "      <td>2023-12-04 10:59:09</td>\n",
       "      <td>overcast clouds</td>\n",
       "      <td>293.160004</td>\n",
       "      <td>75.0</td>\n",
       "      <td>1016.0</td>\n",
       "      <td>1701645532</td>\n",
       "      <td>1701684877</td>\n",
       "      <td>293.149994</td>\n",
       "      <td>293.149994</td>\n",
       "      <td>293.149994</td>\n",
       "      <td>2.47</td>\n",
       "      <td>19.999994</td>\n",
       "      <td>19.999994</td>\n",
       "      <td>19.999994</td>\n",
       "      <td>2023-12-04 10:59:00</td>\n",
       "    </tr>\n",
       "    <tr>\n",
       "      <th>202</th>\n",
       "      <td>Hanoi</td>\n",
       "      <td>2023-12-04 11:00:10</td>\n",
       "      <td>overcast clouds</td>\n",
       "      <td>293.160004</td>\n",
       "      <td>75.0</td>\n",
       "      <td>1016.0</td>\n",
       "      <td>1701645532</td>\n",
       "      <td>1701684877</td>\n",
       "      <td>293.149994</td>\n",
       "      <td>293.149994</td>\n",
       "      <td>293.149994</td>\n",
       "      <td>2.47</td>\n",
       "      <td>19.999994</td>\n",
       "      <td>19.999994</td>\n",
       "      <td>19.999994</td>\n",
       "      <td>2023-12-04 11:00:00</td>\n",
       "    </tr>\n",
       "    <tr>\n",
       "      <th>203</th>\n",
       "      <td>Hanoi</td>\n",
       "      <td>2023-12-04 11:01:10</td>\n",
       "      <td>overcast clouds</td>\n",
       "      <td>293.160004</td>\n",
       "      <td>75.0</td>\n",
       "      <td>1016.0</td>\n",
       "      <td>1701645532</td>\n",
       "      <td>1701684877</td>\n",
       "      <td>293.149994</td>\n",
       "      <td>293.149994</td>\n",
       "      <td>293.149994</td>\n",
       "      <td>2.47</td>\n",
       "      <td>19.999994</td>\n",
       "      <td>19.999994</td>\n",
       "      <td>19.999994</td>\n",
       "      <td>2023-12-04 11:01:00</td>\n",
       "    </tr>\n",
       "  </tbody>\n",
       "</table>\n",
       "</div>"
      ],
      "text/plain": [
       "    location        forecastdate      description  feels_like  humidity  \\\n",
       "199    Hanoi 2023-12-04 10:57:02  overcast clouds  293.160004      75.0   \n",
       "200    Hanoi 2023-12-04 10:58:09  overcast clouds  293.160004      75.0   \n",
       "201    Hanoi 2023-12-04 10:59:09  overcast clouds  293.160004      75.0   \n",
       "202    Hanoi 2023-12-04 11:00:10  overcast clouds  293.160004      75.0   \n",
       "203    Hanoi 2023-12-04 11:01:10  overcast clouds  293.160004      75.0   \n",
       "\n",
       "     pressure     sunrise      sunset        temp    temp_max    temp_min  \\\n",
       "199    1016.0  1701645532  1701684877  293.149994  293.149994  293.149994   \n",
       "200    1016.0  1701645532  1701684877  293.149994  293.149994  293.149994   \n",
       "201    1016.0  1701645532  1701684877  293.149994  293.149994  293.149994   \n",
       "202    1016.0  1701645532  1701684877  293.149994  293.149994  293.149994   \n",
       "203    1016.0  1701645532  1701684877  293.149994  293.149994  293.149994   \n",
       "\n",
       "     wind  celsius_temp  celsius_temp_max  celsius_temp_min  \\\n",
       "199  2.47     19.999994         19.999994         19.999994   \n",
       "200  2.47     19.999994         19.999994         19.999994   \n",
       "201  2.47     19.999994         19.999994         19.999994   \n",
       "202  2.47     19.999994         19.999994         19.999994   \n",
       "203  2.47     19.999994         19.999994         19.999994   \n",
       "\n",
       "    forecastdate_rounded  \n",
       "199  2023-12-04 10:57:00  \n",
       "200  2023-12-04 10:58:00  \n",
       "201  2023-12-04 10:59:00  \n",
       "202  2023-12-04 11:00:00  \n",
       "203  2023-12-04 11:01:00  "
      ]
     },
     "execution_count": 5,
     "metadata": {},
     "output_type": "execute_result"
    }
   ],
   "source": [
    "hanoi_weather = weather[weather['location'] == 'Hanoi']\n",
    "hanoi_weather.head(5)"
   ]
  },
  {
   "cell_type": "code",
   "execution_count": 6,
   "metadata": {},
   "outputs": [
    {
     "data": {
      "text/html": [
       "<div>\n",
       "<style scoped>\n",
       "    .dataframe tbody tr th:only-of-type {\n",
       "        vertical-align: middle;\n",
       "    }\n",
       "\n",
       "    .dataframe tbody tr th {\n",
       "        vertical-align: top;\n",
       "    }\n",
       "\n",
       "    .dataframe thead th {\n",
       "        text-align: right;\n",
       "    }\n",
       "</style>\n",
       "<table border=\"1\" class=\"dataframe\">\n",
       "  <thead>\n",
       "    <tr style=\"text-align: right;\">\n",
       "      <th></th>\n",
       "      <th>location</th>\n",
       "      <th>forecastdate</th>\n",
       "      <th>description</th>\n",
       "      <th>feels_like</th>\n",
       "      <th>humidity</th>\n",
       "      <th>pressure</th>\n",
       "      <th>sunrise</th>\n",
       "      <th>sunset</th>\n",
       "      <th>temp</th>\n",
       "      <th>temp_max</th>\n",
       "      <th>temp_min</th>\n",
       "      <th>wind</th>\n",
       "      <th>celsius_temp</th>\n",
       "      <th>celsius_temp_max</th>\n",
       "      <th>celsius_temp_min</th>\n",
       "      <th>forecastdate_rounded</th>\n",
       "    </tr>\n",
       "  </thead>\n",
       "  <tbody>\n",
       "    <tr>\n",
       "      <th>11</th>\n",
       "      <td>Paris</td>\n",
       "      <td>2023-12-04 10:56:32</td>\n",
       "      <td>broken clouds</td>\n",
       "      <td>274.98999</td>\n",
       "      <td>93.0</td>\n",
       "      <td>1000.0</td>\n",
       "      <td>1701674762</td>\n",
       "      <td>1701705338</td>\n",
       "      <td>278.950012</td>\n",
       "      <td>279.920013</td>\n",
       "      <td>277.579987</td>\n",
       "      <td>6.17</td>\n",
       "      <td>5.800012</td>\n",
       "      <td>6.770013</td>\n",
       "      <td>4.429987</td>\n",
       "      <td>2023-12-04 10:57:00</td>\n",
       "    </tr>\n",
       "    <tr>\n",
       "      <th>12</th>\n",
       "      <td>Paris</td>\n",
       "      <td>2023-12-04 10:57:39</td>\n",
       "      <td>broken clouds</td>\n",
       "      <td>274.98999</td>\n",
       "      <td>93.0</td>\n",
       "      <td>1000.0</td>\n",
       "      <td>1701674762</td>\n",
       "      <td>1701705338</td>\n",
       "      <td>278.950012</td>\n",
       "      <td>279.920013</td>\n",
       "      <td>277.579987</td>\n",
       "      <td>6.17</td>\n",
       "      <td>5.800012</td>\n",
       "      <td>6.770013</td>\n",
       "      <td>4.429987</td>\n",
       "      <td>2023-12-04 10:58:00</td>\n",
       "    </tr>\n",
       "    <tr>\n",
       "      <th>13</th>\n",
       "      <td>Paris</td>\n",
       "      <td>2023-12-04 10:58:39</td>\n",
       "      <td>broken clouds</td>\n",
       "      <td>274.98999</td>\n",
       "      <td>93.0</td>\n",
       "      <td>1000.0</td>\n",
       "      <td>1701674762</td>\n",
       "      <td>1701705338</td>\n",
       "      <td>278.950012</td>\n",
       "      <td>279.920013</td>\n",
       "      <td>277.579987</td>\n",
       "      <td>6.17</td>\n",
       "      <td>5.800012</td>\n",
       "      <td>6.770013</td>\n",
       "      <td>4.429987</td>\n",
       "      <td>2023-12-04 10:59:00</td>\n",
       "    </tr>\n",
       "    <tr>\n",
       "      <th>14</th>\n",
       "      <td>Paris</td>\n",
       "      <td>2023-12-04 10:59:40</td>\n",
       "      <td>broken clouds</td>\n",
       "      <td>274.98999</td>\n",
       "      <td>93.0</td>\n",
       "      <td>1000.0</td>\n",
       "      <td>1701674762</td>\n",
       "      <td>1701705338</td>\n",
       "      <td>278.950012</td>\n",
       "      <td>279.920013</td>\n",
       "      <td>277.579987</td>\n",
       "      <td>6.17</td>\n",
       "      <td>5.800012</td>\n",
       "      <td>6.770013</td>\n",
       "      <td>4.429987</td>\n",
       "      <td>2023-12-04 11:00:00</td>\n",
       "    </tr>\n",
       "    <tr>\n",
       "      <th>15</th>\n",
       "      <td>Paris</td>\n",
       "      <td>2023-12-04 11:00:40</td>\n",
       "      <td>broken clouds</td>\n",
       "      <td>274.98999</td>\n",
       "      <td>93.0</td>\n",
       "      <td>1000.0</td>\n",
       "      <td>1701674762</td>\n",
       "      <td>1701705338</td>\n",
       "      <td>278.950012</td>\n",
       "      <td>279.920013</td>\n",
       "      <td>277.579987</td>\n",
       "      <td>6.17</td>\n",
       "      <td>5.800012</td>\n",
       "      <td>6.770013</td>\n",
       "      <td>4.429987</td>\n",
       "      <td>2023-12-04 11:01:00</td>\n",
       "    </tr>\n",
       "  </tbody>\n",
       "</table>\n",
       "</div>"
      ],
      "text/plain": [
       "   location        forecastdate    description  feels_like  humidity  \\\n",
       "11    Paris 2023-12-04 10:56:32  broken clouds   274.98999      93.0   \n",
       "12    Paris 2023-12-04 10:57:39  broken clouds   274.98999      93.0   \n",
       "13    Paris 2023-12-04 10:58:39  broken clouds   274.98999      93.0   \n",
       "14    Paris 2023-12-04 10:59:40  broken clouds   274.98999      93.0   \n",
       "15    Paris 2023-12-04 11:00:40  broken clouds   274.98999      93.0   \n",
       "\n",
       "    pressure     sunrise      sunset        temp    temp_max    temp_min  \\\n",
       "11    1000.0  1701674762  1701705338  278.950012  279.920013  277.579987   \n",
       "12    1000.0  1701674762  1701705338  278.950012  279.920013  277.579987   \n",
       "13    1000.0  1701674762  1701705338  278.950012  279.920013  277.579987   \n",
       "14    1000.0  1701674762  1701705338  278.950012  279.920013  277.579987   \n",
       "15    1000.0  1701674762  1701705338  278.950012  279.920013  277.579987   \n",
       "\n",
       "    wind  celsius_temp  celsius_temp_max  celsius_temp_min  \\\n",
       "11  6.17      5.800012          6.770013          4.429987   \n",
       "12  6.17      5.800012          6.770013          4.429987   \n",
       "13  6.17      5.800012          6.770013          4.429987   \n",
       "14  6.17      5.800012          6.770013          4.429987   \n",
       "15  6.17      5.800012          6.770013          4.429987   \n",
       "\n",
       "   forecastdate_rounded  \n",
       "11  2023-12-04 10:57:00  \n",
       "12  2023-12-04 10:58:00  \n",
       "13  2023-12-04 10:59:00  \n",
       "14  2023-12-04 11:00:00  \n",
       "15  2023-12-04 11:01:00  "
      ]
     },
     "execution_count": 6,
     "metadata": {},
     "output_type": "execute_result"
    }
   ],
   "source": [
    "paris_weather = weather[weather['location'] == 'Paris']\n",
    "paris_weather.head(5)"
   ]
  },
  {
   "cell_type": "markdown",
   "metadata": {},
   "source": [
    "# Faker data"
   ]
  },
  {
   "cell_type": "markdown",
   "metadata": {},
   "source": [
    "Due to the data is randomly generated, the data distribution is uneven, sometimes it does not even makes sense. This shows that the data is truly randomly computer generated."
   ]
  },
  {
   "cell_type": "code",
   "execution_count": 7,
   "metadata": {},
   "outputs": [
    {
     "name": "stdout",
     "output_type": "stream",
     "text": [
      "fakerdata\n"
     ]
    }
   ],
   "source": [
    "faker_data = getFakerDF() "
   ]
  },
  {
   "cell_type": "code",
   "execution_count": 8,
   "metadata": {},
   "outputs": [
    {
     "data": {
      "image/png": "[encoded data removed]",
      "text/plain": [
       "<Figure size 2000x500 with 1 Axes>"
      ]
     },
     "metadata": {},
     "output_type": "display_data"
    }
   ],
   "source": [
    "plt.figure(figsize=(20,5))\n",
    "plt.title(\"Top\")\n",
    "origin_top_10 = faker_data.groupby(['origin']).size().to_frame().sort_values([0], ascending = False).head(10).reset_index()\n",
    "plt.bar(origin_top_10['origin'], origin_top_10[0], color='orange')\n",
    "plt.title(\"Top 10 'origin' in faker data\")\n",
    "plt.show()"
   ]
  },
  {
   "cell_type": "code",
   "execution_count": 9,
   "metadata": {},
   "outputs": [
    {
     "data": {
      "image/png": "[encoded data removed]",
      "text/plain": [
       "<Figure size 2000x500 with 1 Axes>"
      ]
     },
     "metadata": {},
     "output_type": "display_data"
    }
   ],
   "source": [
    "plt.figure(figsize=(20,5))\n",
    "year_hist = faker_data.groupby(['year']).size().to_frame().sort_values([0], ascending = False).reset_index()\n",
    "plt.bar(year_hist['year'], year_hist[0], color='maroon')\n",
    "plt.title(\"Distribution of 'year'\")\n",
    "plt.show()"
   ]
  },
  {
   "cell_type": "code",
   "execution_count": 10,
   "metadata": {},
   "outputs": [
    {
     "data": {
      "text/plain": [
       "0   1981-03-15\n",
       "1   1939-10-24\n",
       "2   1931-06-21\n",
       "3   1914-06-16\n",
       "4   1960-05-09\n",
       "Name: date_of_birth, dtype: datetime64[ns]"
      ]
     },
     "execution_count": 10,
     "metadata": {},
     "output_type": "execute_result"
    }
   ],
   "source": [
    "dof_df = faker_data.copy()\n",
    "dof_df['date_of_birth'] = pd.to_datetime(dof_df['date_of_birth'], format='%m/%d/%Y')\n",
    "dof_df['date_of_birth'].head(5)"
   ]
  },
  {
   "cell_type": "code",
   "execution_count": 11,
   "metadata": {},
   "outputs": [],
   "source": [
    "dof_df['year_column'] = dof_df['date_of_birth'].dt.year\n",
    "dof_df['mon_column'] = dof_df['date_of_birth'].dt.month"
   ]
  },
  {
   "cell_type": "code",
   "execution_count": 12,
   "metadata": {},
   "outputs": [
    {
     "data": {
      "image/png": "[encoded data removed]",
      "text/plain": [
       "<Figure size 2000x500 with 1 Axes>"
      ]
     },
     "metadata": {},
     "output_type": "display_data"
    }
   ],
   "source": [
    "plt.figure(figsize=(20,5))\n",
    "dof_hist = dof_df.groupby(['year_column']).size().to_frame().sort_values([0], ascending = False).reset_index()\n",
    "plt.bar(dof_hist['year_column'], dof_hist[0], color='maroon')\n",
    "plt.title(\"Distribution of 'dob' year\")\n",
    "plt.show()"
   ]
  },
  {
   "cell_type": "code",
   "execution_count": 13,
   "metadata": {},
   "outputs": [
    {
     "data": {
      "image/png": "[encoded data removed]",
      "text/plain": [
       "<Figure size 2000x500 with 1 Axes>"
      ]
     },
     "metadata": {},
     "output_type": "display_data"
    }
   ],
   "source": [
    "plt.figure(figsize=(20,5))\n",
    "dof_mon_hist = dof_df.groupby(['mon_column']).size().to_frame().sort_values([0], ascending = False).reset_index()\n",
    "plt.bar(dof_mon_hist['mon_column'], dof_mon_hist[0], color='maroon')\n",
    "plt.title(\"Distribution of 'dob' month\")\n",
    "plt.show()"
   ]
  },
  {
   "cell_type": "markdown",
   "metadata": {},
   "source": [
    "# AQI Data"
   ]
  },
  {
   "cell_type": "code",
   "execution_count": 14,
   "metadata": {},
   "outputs": [
    {
     "name": "stdout",
     "output_type": "stream",
     "text": [
      "aqi\n"
     ]
    },
    {
     "data": {
      "text/html": [
       "<div>\n",
       "<style scoped>\n",
       "    .dataframe tbody tr th:only-of-type {\n",
       "        vertical-align: middle;\n",
       "    }\n",
       "\n",
       "    .dataframe tbody tr th {\n",
       "        vertical-align: top;\n",
       "    }\n",
       "\n",
       "    .dataframe thead th {\n",
       "        text-align: right;\n",
       "    }\n",
       "</style>\n",
       "<table border=\"1\" class=\"dataframe\">\n",
       "  <thead>\n",
       "    <tr style=\"text-align: right;\">\n",
       "      <th></th>\n",
       "      <th>location</th>\n",
       "      <th>time</th>\n",
       "      <th>aqi</th>\n",
       "    </tr>\n",
       "  </thead>\n",
       "  <tbody>\n",
       "    <tr>\n",
       "      <th>0</th>\n",
       "      <td>paris</td>\n",
       "      <td>2023-12-04 14:04:00</td>\n",
       "      <td>45.0</td>\n",
       "    </tr>\n",
       "    <tr>\n",
       "      <th>1</th>\n",
       "      <td>paris</td>\n",
       "      <td>2023-12-04 14:04:00</td>\n",
       "      <td>45.0</td>\n",
       "    </tr>\n",
       "    <tr>\n",
       "      <th>2</th>\n",
       "      <td>paris</td>\n",
       "      <td>2023-12-04 14:04:00</td>\n",
       "      <td>45.0</td>\n",
       "    </tr>\n",
       "    <tr>\n",
       "      <th>3</th>\n",
       "      <td>paris</td>\n",
       "      <td>2023-12-04 14:04:00</td>\n",
       "      <td>45.0</td>\n",
       "    </tr>\n",
       "    <tr>\n",
       "      <th>4</th>\n",
       "      <td>paris</td>\n",
       "      <td>2023-12-04 14:04:00</td>\n",
       "      <td>45.0</td>\n",
       "    </tr>\n",
       "  </tbody>\n",
       "</table>\n",
       "</div>"
      ],
      "text/plain": [
       "  location                time   aqi\n",
       "0    paris 2023-12-04 14:04:00  45.0\n",
       "1    paris 2023-12-04 14:04:00  45.0\n",
       "2    paris 2023-12-04 14:04:00  45.0\n",
       "3    paris 2023-12-04 14:04:00  45.0\n",
       "4    paris 2023-12-04 14:04:00  45.0"
      ]
     },
     "execution_count": 14,
     "metadata": {},
     "output_type": "execute_result"
    }
   ],
   "source": [
    "aqi = getAqiDF()\n",
    "aqi_rounded = aqi.copy()\n",
    "aqi_rounded[\"time\"] = aqi[\"time\"].dt.round(\"min\")\n",
    "aqi_rounded.head(5)"
   ]
  },
  {
   "cell_type": "code",
   "execution_count": 15,
   "metadata": {},
   "outputs": [],
   "source": [
    "hanoi_aqi = aqi_rounded[aqi_rounded['location'] == \"hanoi\"]\n",
    "paris_aqi = aqi_rounded[aqi_rounded['location'] == \"paris\"]"
   ]
  },
  {
   "cell_type": "code",
   "execution_count": 16,
   "metadata": {},
   "outputs": [
    {
     "data": {
      "text/html": [
       "<div>\n",
       "<style scoped>\n",
       "    .dataframe tbody tr th:only-of-type {\n",
       "        vertical-align: middle;\n",
       "    }\n",
       "\n",
       "    .dataframe tbody tr th {\n",
       "        vertical-align: top;\n",
       "    }\n",
       "\n",
       "    .dataframe thead th {\n",
       "        text-align: right;\n",
       "    }\n",
       "</style>\n",
       "<table border=\"1\" class=\"dataframe\">\n",
       "  <thead>\n",
       "    <tr style=\"text-align: right;\">\n",
       "      <th></th>\n",
       "      <th>location</th>\n",
       "      <th>time</th>\n",
       "      <th>aqi</th>\n",
       "    </tr>\n",
       "  </thead>\n",
       "  <tbody>\n",
       "    <tr>\n",
       "      <th>541</th>\n",
       "      <td>hanoi</td>\n",
       "      <td>2023-12-04 14:04:00</td>\n",
       "      <td>137.0</td>\n",
       "    </tr>\n",
       "    <tr>\n",
       "      <th>542</th>\n",
       "      <td>hanoi</td>\n",
       "      <td>2023-12-04 14:04:00</td>\n",
       "      <td>137.0</td>\n",
       "    </tr>\n",
       "    <tr>\n",
       "      <th>543</th>\n",
       "      <td>hanoi</td>\n",
       "      <td>2023-12-04 14:04:00</td>\n",
       "      <td>137.0</td>\n",
       "    </tr>\n",
       "    <tr>\n",
       "      <th>544</th>\n",
       "      <td>hanoi</td>\n",
       "      <td>2023-12-04 14:04:00</td>\n",
       "      <td>137.0</td>\n",
       "    </tr>\n",
       "    <tr>\n",
       "      <th>545</th>\n",
       "      <td>hanoi</td>\n",
       "      <td>2023-12-04 14:04:00</td>\n",
       "      <td>137.0</td>\n",
       "    </tr>\n",
       "  </tbody>\n",
       "</table>\n",
       "</div>"
      ],
      "text/plain": [
       "    location                time    aqi\n",
       "541    hanoi 2023-12-04 14:04:00  137.0\n",
       "542    hanoi 2023-12-04 14:04:00  137.0\n",
       "543    hanoi 2023-12-04 14:04:00  137.0\n",
       "544    hanoi 2023-12-04 14:04:00  137.0\n",
       "545    hanoi 2023-12-04 14:04:00  137.0"
      ]
     },
     "execution_count": 16,
     "metadata": {},
     "output_type": "execute_result"
    }
   ],
   "source": [
    "hanoi_aqi.head(5)"
   ]
  },
  {
   "cell_type": "code",
   "execution_count": 17,
   "metadata": {},
   "outputs": [
    {
     "data": {
      "text/html": [
       "<div>\n",
       "<style scoped>\n",
       "    .dataframe tbody tr th:only-of-type {\n",
       "        vertical-align: middle;\n",
       "    }\n",
       "\n",
       "    .dataframe tbody tr th {\n",
       "        vertical-align: top;\n",
       "    }\n",
       "\n",
       "    .dataframe thead th {\n",
       "        text-align: right;\n",
       "    }\n",
       "</style>\n",
       "<table border=\"1\" class=\"dataframe\">\n",
       "  <thead>\n",
       "    <tr style=\"text-align: right;\">\n",
       "      <th></th>\n",
       "      <th>location</th>\n",
       "      <th>time</th>\n",
       "      <th>aqi</th>\n",
       "    </tr>\n",
       "  </thead>\n",
       "  <tbody>\n",
       "    <tr>\n",
       "      <th>0</th>\n",
       "      <td>paris</td>\n",
       "      <td>2023-12-04 14:04:00</td>\n",
       "      <td>45.0</td>\n",
       "    </tr>\n",
       "    <tr>\n",
       "      <th>1</th>\n",
       "      <td>paris</td>\n",
       "      <td>2023-12-04 14:04:00</td>\n",
       "      <td>45.0</td>\n",
       "    </tr>\n",
       "    <tr>\n",
       "      <th>2</th>\n",
       "      <td>paris</td>\n",
       "      <td>2023-12-04 14:04:00</td>\n",
       "      <td>45.0</td>\n",
       "    </tr>\n",
       "    <tr>\n",
       "      <th>3</th>\n",
       "      <td>paris</td>\n",
       "      <td>2023-12-04 14:04:00</td>\n",
       "      <td>45.0</td>\n",
       "    </tr>\n",
       "    <tr>\n",
       "      <th>4</th>\n",
       "      <td>paris</td>\n",
       "      <td>2023-12-04 14:04:00</td>\n",
       "      <td>45.0</td>\n",
       "    </tr>\n",
       "  </tbody>\n",
       "</table>\n",
       "</div>"
      ],
      "text/plain": [
       "  location                time   aqi\n",
       "0    paris 2023-12-04 14:04:00  45.0\n",
       "1    paris 2023-12-04 14:04:00  45.0\n",
       "2    paris 2023-12-04 14:04:00  45.0\n",
       "3    paris 2023-12-04 14:04:00  45.0\n",
       "4    paris 2023-12-04 14:04:00  45.0"
      ]
     },
     "execution_count": 17,
     "metadata": {},
     "output_type": "execute_result"
    }
   ],
   "source": [
    "paris_aqi.head(5)"
   ]
  },
  {
   "cell_type": "code",
   "execution_count": 18,
   "metadata": {},
   "outputs": [
    {
     "data": {
      "text/html": [
       "<div>\n",
       "<style scoped>\n",
       "    .dataframe tbody tr th:only-of-type {\n",
       "        vertical-align: middle;\n",
       "    }\n",
       "\n",
       "    .dataframe tbody tr th {\n",
       "        vertical-align: top;\n",
       "    }\n",
       "\n",
       "    .dataframe thead th {\n",
       "        text-align: right;\n",
       "    }\n",
       "</style>\n",
       "<table border=\"1\" class=\"dataframe\">\n",
       "  <thead>\n",
       "    <tr style=\"text-align: right;\">\n",
       "      <th></th>\n",
       "      <th>time</th>\n",
       "      <th>aqi</th>\n",
       "      <th>location_y</th>\n",
       "      <th>forecastdate</th>\n",
       "      <th>description</th>\n",
       "      <th>feels_like</th>\n",
       "      <th>humidity</th>\n",
       "      <th>pressure</th>\n",
       "      <th>sunrise</th>\n",
       "      <th>sunset</th>\n",
       "      <th>temp</th>\n",
       "      <th>temp_max</th>\n",
       "      <th>temp_min</th>\n",
       "      <th>wind</th>\n",
       "      <th>celsius_temp</th>\n",
       "      <th>celsius_temp_max</th>\n",
       "      <th>celsius_temp_min</th>\n",
       "    </tr>\n",
       "  </thead>\n",
       "  <tbody>\n",
       "    <tr>\n",
       "      <th>0</th>\n",
       "      <td>2023-12-04 14:04:00</td>\n",
       "      <td>137.0</td>\n",
       "      <td>Hanoi</td>\n",
       "      <td>2023-12-04 14:04:01</td>\n",
       "      <td>overcast clouds</td>\n",
       "      <td>292.01001</td>\n",
       "      <td>73.0</td>\n",
       "      <td>1017.0</td>\n",
       "      <td>1.701646e+09</td>\n",
       "      <td>1.701685e+09</td>\n",
       "      <td>292.149994</td>\n",
       "      <td>292.149994</td>\n",
       "      <td>292.149994</td>\n",
       "      <td>1.81</td>\n",
       "      <td>18.999994</td>\n",
       "      <td>18.999994</td>\n",
       "      <td>18.999994</td>\n",
       "    </tr>\n",
       "    <tr>\n",
       "      <th>1</th>\n",
       "      <td>2023-12-04 14:04:00</td>\n",
       "      <td>137.0</td>\n",
       "      <td>Hanoi</td>\n",
       "      <td>2023-12-04 14:04:01</td>\n",
       "      <td>overcast clouds</td>\n",
       "      <td>292.01001</td>\n",
       "      <td>73.0</td>\n",
       "      <td>1017.0</td>\n",
       "      <td>1.701646e+09</td>\n",
       "      <td>1.701685e+09</td>\n",
       "      <td>292.149994</td>\n",
       "      <td>292.149994</td>\n",
       "      <td>292.149994</td>\n",
       "      <td>1.81</td>\n",
       "      <td>18.999994</td>\n",
       "      <td>18.999994</td>\n",
       "      <td>18.999994</td>\n",
       "    </tr>\n",
       "  </tbody>\n",
       "</table>\n",
       "</div>"
      ],
      "text/plain": [
       "                 time    aqi location_y        forecastdate      description  \\\n",
       "0 2023-12-04 14:04:00  137.0      Hanoi 2023-12-04 14:04:01  overcast clouds   \n",
       "1 2023-12-04 14:04:00  137.0      Hanoi 2023-12-04 14:04:01  overcast clouds   \n",
       "\n",
       "   feels_like  humidity  pressure       sunrise        sunset        temp  \\\n",
       "0   292.01001      73.0    1017.0  1.701646e+09  1.701685e+09  292.149994   \n",
       "1   292.01001      73.0    1017.0  1.701646e+09  1.701685e+09  292.149994   \n",
       "\n",
       "     temp_max    temp_min  wind  celsius_temp  celsius_temp_max  \\\n",
       "0  292.149994  292.149994  1.81     18.999994         18.999994   \n",
       "1  292.149994  292.149994  1.81     18.999994         18.999994   \n",
       "\n",
       "   celsius_temp_min  \n",
       "0         18.999994  \n",
       "1         18.999994  "
      ]
     },
     "execution_count": 18,
     "metadata": {},
     "output_type": "execute_result"
    }
   ],
   "source": [
    "hanoi_aqi_temp = pd.merge(hanoi_aqi, hanoi_weather, left_on='time', right_on='forecastdate_rounded', how='left').drop('forecastdate_rounded', axis=1).drop('location_x', axis=1)\n",
    "hanoi_aqi_temp_not_null = hanoi_aqi_temp.dropna()\n",
    "hanoi_aqi_temp_not_null.head(2)"
   ]
  },
  {
   "cell_type": "code",
   "execution_count": 19,
   "metadata": {},
   "outputs": [
    {
     "data": {
      "text/html": [
       "<div>\n",
       "<style scoped>\n",
       "    .dataframe tbody tr th:only-of-type {\n",
       "        vertical-align: middle;\n",
       "    }\n",
       "\n",
       "    .dataframe tbody tr th {\n",
       "        vertical-align: top;\n",
       "    }\n",
       "\n",
       "    .dataframe thead th {\n",
       "        text-align: right;\n",
       "    }\n",
       "</style>\n",
       "<table border=\"1\" class=\"dataframe\">\n",
       "  <thead>\n",
       "    <tr style=\"text-align: right;\">\n",
       "      <th></th>\n",
       "      <th>time</th>\n",
       "      <th>aqi</th>\n",
       "      <th>location_y</th>\n",
       "      <th>forecastdate</th>\n",
       "      <th>description</th>\n",
       "      <th>feels_like</th>\n",
       "      <th>humidity</th>\n",
       "      <th>pressure</th>\n",
       "      <th>sunrise</th>\n",
       "      <th>sunset</th>\n",
       "      <th>temp</th>\n",
       "      <th>temp_max</th>\n",
       "      <th>temp_min</th>\n",
       "      <th>wind</th>\n",
       "      <th>celsius_temp</th>\n",
       "      <th>celsius_temp_max</th>\n",
       "      <th>celsius_temp_min</th>\n",
       "    </tr>\n",
       "  </thead>\n",
       "  <tbody>\n",
       "    <tr>\n",
       "      <th>0</th>\n",
       "      <td>2023-12-04 14:04:00</td>\n",
       "      <td>45.0</td>\n",
       "      <td>Paris</td>\n",
       "      <td>2023-12-04 14:03:31</td>\n",
       "      <td>moderate rain</td>\n",
       "      <td>279.079987</td>\n",
       "      <td>85.0</td>\n",
       "      <td>997.0</td>\n",
       "      <td>1.701675e+09</td>\n",
       "      <td>1.701705e+09</td>\n",
       "      <td>282.290009</td>\n",
       "      <td>282.920013</td>\n",
       "      <td>281.480011</td>\n",
       "      <td>6.69</td>\n",
       "      <td>9.140009</td>\n",
       "      <td>9.770013</td>\n",
       "      <td>8.330011</td>\n",
       "    </tr>\n",
       "    <tr>\n",
       "      <th>1</th>\n",
       "      <td>2023-12-04 14:04:00</td>\n",
       "      <td>45.0</td>\n",
       "      <td>Paris</td>\n",
       "      <td>2023-12-04 14:03:31</td>\n",
       "      <td>moderate rain</td>\n",
       "      <td>279.079987</td>\n",
       "      <td>85.0</td>\n",
       "      <td>997.0</td>\n",
       "      <td>1.701675e+09</td>\n",
       "      <td>1.701705e+09</td>\n",
       "      <td>282.290009</td>\n",
       "      <td>282.920013</td>\n",
       "      <td>281.480011</td>\n",
       "      <td>6.69</td>\n",
       "      <td>9.140009</td>\n",
       "      <td>9.770013</td>\n",
       "      <td>8.330011</td>\n",
       "    </tr>\n",
       "  </tbody>\n",
       "</table>\n",
       "</div>"
      ],
      "text/plain": [
       "                 time   aqi location_y        forecastdate    description  \\\n",
       "0 2023-12-04 14:04:00  45.0      Paris 2023-12-04 14:03:31  moderate rain   \n",
       "1 2023-12-04 14:04:00  45.0      Paris 2023-12-04 14:03:31  moderate rain   \n",
       "\n",
       "   feels_like  humidity  pressure       sunrise        sunset        temp  \\\n",
       "0  279.079987      85.0     997.0  1.701675e+09  1.701705e+09  282.290009   \n",
       "1  279.079987      85.0     997.0  1.701675e+09  1.701705e+09  282.290009   \n",
       "\n",
       "     temp_max    temp_min  wind  celsius_temp  celsius_temp_max  \\\n",
       "0  282.920013  281.480011  6.69      9.140009          9.770013   \n",
       "1  282.920013  281.480011  6.69      9.140009          9.770013   \n",
       "\n",
       "   celsius_temp_min  \n",
       "0          8.330011  \n",
       "1          8.330011  "
      ]
     },
     "execution_count": 19,
     "metadata": {},
     "output_type": "execute_result"
    }
   ],
   "source": [
    "paris_aqi_temp = pd.merge(paris_aqi, paris_weather, left_on='time', right_on='forecastdate_rounded', how='left').drop('forecastdate_rounded', axis=1).drop('location_x', axis=1)\n",
    "paris_aqi_temp_not_null = paris_aqi_temp.dropna()\n",
    "paris_aqi_temp_not_null.head(2)"
   ]
  },
  {
   "cell_type": "markdown",
   "metadata": {},
   "source": [
    "# DATA VISUALIZATION"
   ]
  },
  {
   "cell_type": "markdown",
   "metadata": {},
   "source": [
    "## WEATHER DATA"
   ]
  },
  {
   "cell_type": "code",
   "execution_count": 20,
   "metadata": {},
   "outputs": [
    {
     "data": {
      "image/png": "[encoded data removed]",
      "text/plain": [
       "<Figure size 2000x600 with 2 Axes>"
      ]
     },
     "metadata": {},
     "output_type": "display_data"
    }
   ],
   "source": [
    "fig, ax = plt.subplots(1, 2, figsize=(20, 6))\n",
    "ax = ax.flatten()\n",
    "\n",
    "\n",
    "ax[0].plot(hanoi_weather['forecastdate'], hanoi_weather['celsius_temp'], label=\"Hanoi Temp\")\n",
    "ax[0].plot(hanoi_weather['forecastdate'], hanoi_weather['celsius_temp_min'], '--',label=\"Hanoi min Temp\")\n",
    "ax[0].plot(hanoi_weather['forecastdate'], hanoi_weather['celsius_temp_max'], '--',label=\"Paris max Temp\")\n",
    "\n",
    "ax[0].plot(paris_weather['forecastdate'], paris_weather['celsius_temp'], label=\"Paris Temp\") \n",
    "ax[0].plot(paris_weather['forecastdate'], paris_weather['celsius_temp_min'], '--',label=\"Paris min Temp\")\n",
    "ax[0].plot(paris_weather['forecastdate'], paris_weather['celsius_temp_max'], '--',label=\"Paris max Temp\")\n",
    "\n",
    "ax[0].set_ylim(0, 40)\n",
    "ax[0].set_title(\"Temperature comparison\")\n",
    "\n",
    "ax[0].legend(loc=\"upper left\")\n",
    "\n",
    "ax[1].plot(paris_weather['forecastdate'], paris_weather['humidity'], label=\"Paris Humidity\")\n",
    "ax[1].plot(hanoi_weather['forecastdate'], hanoi_weather['humidity'], label=\"Hanoi Humidity\")\n",
    "ax[1].legend(loc=\"upper left\")\n",
    "\n",
    "ax[1].set_ylim(1, 100)\n",
    "ax[1].set_title(\"Humidity comparison\")\n",
    "\n",
    "fig.show()"
   ]
  },
  {
   "cell_type": "markdown",
   "metadata": {},
   "source": [
    "## WEATHER - AQI DATA"
   ]
  },
  {
   "cell_type": "code",
   "execution_count": 22,
   "metadata": {},
   "outputs": [
    {
     "data": {
      "image/png": "[encoded data removed]",
      "text/plain": [
       "<Figure size 2000x600 with 2 Axes>"
      ]
     },
     "metadata": {},
     "output_type": "display_data"
    }
   ],
   "source": [
    "fig, ax = plt.subplots(1, 2, figsize=(20, 6))\n",
    "ax = ax.flatten()\n",
    "\n",
    "# hanoi\n",
    "ax[0].plot(hanoi_aqi_temp_not_null['forecastdate'], hanoi_aqi_temp_not_null['celsius_temp'], label=\"Hanoi Temp\")\n",
    "ax[0].plot(hanoi_aqi_temp_not_null['forecastdate'], hanoi_aqi_temp_not_null['aqi'], '--',label=\"Hanoi AQI\")\n",
    "ax[0].plot(hanoi_aqi_temp_not_null['forecastdate'], hanoi_aqi_temp_not_null['humidity'], ':',label=\"Hanoi Humidity\")\n",
    "\n",
    "ax[0].legend(loc=\"upper left\")\n",
    "ax[0].set_title(\"Hanoi Temperature - Humidity - AQI relations\")\n",
    "ax[0].set_ylim(0, 160)\n",
    "\n",
    "# Paris\n",
    "ax[1].plot(paris_aqi_temp_not_null['forecastdate'], paris_aqi_temp_not_null['celsius_temp'], label=\"Paris Temp\")\n",
    "ax[1].plot(paris_aqi_temp_not_null['forecastdate'], paris_aqi_temp_not_null['aqi'], '--',label=\"Paris AQI\")\n",
    "ax[1].plot(paris_aqi_temp_not_null['forecastdate'], paris_aqi_temp_not_null['humidity'], ':',label=\"Paris Humidity\")\n",
    "\n",
    "ax[1].legend(loc=\"upper left\")\n",
    "ax[1].set_title(\"Paris Temperature - Humidity - AQI relations\")\n",
    "ax[1].set_ylim(0, 160)\n",
    "\n",
    "plt.show()"
   ]
  },
  {
   "cell_type": "code",
   "execution_count": null,
   "metadata": {},
   "outputs": [],
   "source": []
  },
  {
   "cell_type": "code",
   "execution_count": null,
   "metadata": {},
   "outputs": [],
   "source": []
  },
  {
   "cell_type": "code",
   "execution_count": null,
   "metadata": {},
   "outputs": [],
   "source": []
  }
 ],
 "metadata": {
  "kernelspec": {
   "display_name": "Python 3 (ipykernel)",
   "language": "python",
   "name": "python3"
  },
  "language_info": {
   "codemirror_mode": {
    "name": "ipython",
    "version": 3
   },
   "file_extension": ".py",
   "mimetype": "text/x-python",
   "name": "python",
   "nbconvert_exporter": "python",
   "pygments_lexer": "ipython3",
   "version": "3.8.18"
  }
 },
 "nbformat": 4,
 "nbformat_minor": 4
}
